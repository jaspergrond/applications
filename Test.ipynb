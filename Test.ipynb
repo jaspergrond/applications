{
 "cells": [
  {
   "cell_type": "code",
   "execution_count": 11,
   "metadata": {
    "collapsed": false
   },
   "outputs": [],
   "source": [
    "from appDict import getApp\n",
    "import glob"
   ]
  },
  {
   "cell_type": "code",
   "execution_count": 12,
   "metadata": {
    "collapsed": true
   },
   "outputs": [],
   "source": [
    "files = glob.glob(\"*.txt\")"
   ]
  },
  {
   "cell_type": "code",
   "execution_count": 13,
   "metadata": {
    "collapsed": false
   },
   "outputs": [
    {
     "name": "stdout",
     "output_type": "stream",
     "text": [
      "Henderson, Melissa\n",
      "Elia, Katie\n",
      "Berrada, Meryem\n",
      "Desouza, Amanda\n",
      "Rouble, Maclean\n",
      "Zomederis, Mehrnoush Jen\n",
      "Desy, Beatrice\n",
      "Xia, Daisy\n",
      "Harris, Katie\n",
      "Long, Jenny\n",
      "Mohamud Osman, Raho\n",
      "Tran, Jess\n",
      "Babcock, Lindsay\n",
      "Ruthven, Mackenzie\n",
      "Rakymzhan, Adiya\n",
      "Zhang, Emily\n"
     ]
    }
   ],
   "source": [
    "# how one would use the dicts, you could even make a list of dicts\n",
    "\n",
    "apps = []\n",
    "\n",
    "for i in files:\n",
    "    apps.append(getApp(i))\n",
    "\n",
    "for i in apps:\n",
    "    print i['name']"
   ]
  },
  {
   "cell_type": "code",
   "execution_count": 14,
   "metadata": {
    "collapsed": false
   },
   "outputs": [
    {
     "name": "stdout",
     "output_type": "stream",
     "text": [
      "depSupport\n",
      "why\n",
      "pgName\n",
      "name\n",
      "isUgrad\n",
      "gender\n",
      "legName\n",
      "year\n",
      "referal\n",
      "llName\n",
      "lgName\n",
      "where\n",
      "cost\n",
      "inst\n",
      "address\n",
      "prog\n",
      "support\n",
      "prev\n",
      "gradDate\n",
      "email\n"
     ]
    }
   ],
   "source": [
    "# what are the keys one can look at?\n",
    "for i in apps[0]:\n",
    "    print i"
   ]
  },
  {
   "cell_type": "code",
   "execution_count": null,
   "metadata": {
    "collapsed": true
   },
   "outputs": [],
   "source": []
  }
 ],
 "metadata": {
  "kernelspec": {
   "display_name": "Python [Root]",
   "language": "python",
   "name": "Python [Root]"
  },
  "language_info": {
   "codemirror_mode": {
    "name": "ipython",
    "version": 2
   },
   "file_extension": ".py",
   "mimetype": "text/x-python",
   "name": "python",
   "nbconvert_exporter": "python",
   "pygments_lexer": "ipython2",
   "version": "2.7.12"
  }
 },
 "nbformat": 4,
 "nbformat_minor": 0
}
